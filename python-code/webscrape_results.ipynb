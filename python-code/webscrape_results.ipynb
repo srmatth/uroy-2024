{
 "cells": [
  {
   "cell_type": "code",
   "execution_count": 97,
   "metadata": {},
   "outputs": [],
   "source": [
    "!pip freeze > requirements.txt"
   ]
  },
  {
   "cell_type": "markdown",
   "metadata": {},
   "source": [
    "# Webscraping of Race Results from Various Sources\n",
    "\n",
    "## Setup"
   ]
  },
  {
   "cell_type": "code",
   "execution_count": 27,
   "metadata": {},
   "outputs": [],
   "source": [
    "%load_ext autoreload\n",
    "%autoreload 2"
   ]
  },
  {
   "cell_type": "code",
   "execution_count": 80,
   "metadata": {},
   "outputs": [],
   "source": [
    "from scrapers import ultrasignup_scraper, itra_scraper, runsignup_scraper, pacific_multisports_scraper, ultrarunning_scraper"
   ]
  },
  {
   "cell_type": "markdown",
   "metadata": {},
   "source": [
    "## Ultrasignup Races"
   ]
  },
  {
   "cell_type": "code",
   "execution_count": 34,
   "metadata": {},
   "outputs": [],
   "source": [
    "# URL of the webpage\n",
    "ultrasignup_urls = {\n",
    "    \"Angeles Crest\": \"https://ultrasignup.com/results_event.aspx?did=107246\",\n",
    "    \"Arches\": \"https://ultrasignup.com/results_event.aspx?did=102400\",\n",
    "    # \"Barkley\"                                      \n",
    "    \"Behind the Rocks\": \"https://ultrasignup.com/results_event.aspx?did=103501\",\n",
    "    \"Big Alta\": \"https://ultrasignup.com/results_event.aspx?did=107513\",\n",
    "#  [6] \"Big's Backyard\"                               \n",
    "    \"Bigfoot 200\": \"https://ultrasignup.com/results_event.aspx?did=107531\",\n",
    "    \"Black Canyon 100K\": \"http://ultrasignup.com/results_event.aspx?did=104108\",\n",
    "    \"Black Canyon 60K\": \"https://ultrasignup.com/results_event.aspx?did=104109\",\n",
    "    \"Broken Arrow Skyrace\": \"https://ultrasignup.com/results_event.aspx?did=106491\",\n",
    "# [10] \"Canyons by UTMB\"                              \n",
    "# [11] \"Captain Mountain\"                             \n",
    "# [12] \"Chianti Castles by UTMB (Italy)\"              \n",
    "# [13] \"Chuckanut\"                                    \n",
    "    \"Cocodona\": \"https://ultrasignup.com/results_event.aspx?did=104364\",\n",
    "# [15] \"Comrades (South Africa)\"                      \n",
    "# [16] \"Courmayeur-Champex-Chamonix (CCC) (Italy)\"    \n",
    "    \"Crown King Scramble\": \"https://ultrasignup.com/results_event.aspx?did=106514\",\n",
    "    \"Dead Horse\": \"https://ultrasignup.com/results_event.aspx?did=110989\",\n",
    "    \"Desert Solstice\": \"https://ultrasignup.com/results_event.aspx?did=111938\",\n",
    "# [20] \"Eiger (Switzerland)\"                          \n",
    "# [21] \"Grand Raid Reunion (France)\"                  \n",
    "    \"Hardrock\": \"https://ultrasignup.com/results_event.aspx?did=108442\",\n",
    "    \"HURT\": \"https://ultrasignup.com/results_event.aspx?did=103124\",\n",
    "# [24] \"IAU World Championships (India)\"              \n",
    "    \"Jackpot\": \"https://ultrasignup.com/results_event.aspx?did=102999\",\n",
    "    \"Javelina Jundred\": \"https://ultrasignup.com/results_event.aspx?did=112165\",\n",
    "# [27] \"JFK\"                                          \n",
    "# [28] \"Julian Alps (Switzerland)\"                    \n",
    "# [29] \"KAT100 (Austria)\"                             \n",
    "# [30] \"Leadville\"                                    \n",
    "# [31] \"Leadville Silver Rush\"                        \n",
    "# [32] \"Lululemon Further\"                            \n",
    "# [33] \"Madeira Island Ultra Trail (Portugal)\"        \n",
    "    \"Moab 240\": \"https://ultrasignup.com/results_event.aspx?did=111767\",\n",
    "    \"Moab Red Hot\": \"https://ultrasignup.com/results_event.aspx?did=102919\",\n",
    "# [36] \"Mt Fuji 100 (Japan)\"                          \n",
    "# [37] \"Nice Cote D'Azur by UTMB (France)\"            \n",
    "# [38] \"Orsieres-Champex-Chamonis (OCC) (Switzerland)\"\n",
    "    \"Quad Rock\": \"https://ultrasignup.com/results_event.aspx?did=110632\",\n",
    "    \"Red Mountain\": \"https://ultrasignup.com/results_event.aspx?did=103136\",\n",
    "    \"Run Rabbit Run\": \"https://ultrasignup.com/results_event.aspx?did=109413\",\n",
    "# [42] \"Rut Mountain Runs\"                            \n",
    "# [43] \"Saguaro Backyard\"                             \n",
    "# [44] \"SainteLyon (France)\"                          \n",
    "    \"Salmon Falls\": \"https://ultrasignup.com/results_event.aspx?did=110857\",\n",
    "    \"Silver State 50K\": \"https://ultrasignup.com/results_event.aspx?did=111515\",\n",
    "    \"Six Days in the Dome\": \"https://ultrasignup.com/results_event.aspx?did=108208\",\n",
    "    \"Sky Pilot's Backyard\": \"https://ultrasignup.com/results_event.aspx?did=104885\",\n",
    "# [49] \"Snowdrop Ultra\"                               \n",
    "# [50] \"Speedgoat\"                                    \n",
    "    \"Suffer on Centennial (Canada)\": \"https://ultrasignup.com/results_event.aspx?did=111912\",\n",
    "# [52] \"Swiss Canyon Trail 111km (Switzerland)\"       \n",
    "# [53] \"SwissAlps\"                                    \n",
    "# [54] \"SwissPeaks (Switzerland)\"                     \n",
    "    \"Tahoe 200\": \"https://ultrasignup.com/results_event.aspx?did=104567\",\n",
    "    \"Tillamook Burn\": \"https://ultrasignup.com/results_event.aspx?did=104975\",\n",
    "# [57] \"Trail Andorra (Andorra)\"                      \n",
    "# [58] \"Transgrancanaria (Spain)\"                     \n",
    "# [59] \"Transvulcania (Spain)\"                        \n",
    "    \"Tunnel Hill\": \"https://ultrasignup.com/results_event.aspx?did=110901\",\n",
    "# [61] \"UTMB (France)\"                                \n",
    "    \"Western States\": \"https://ultrasignup.com/results_event.aspx?did=108752\"\n",
    "}"
   ]
  },
  {
   "cell_type": "code",
   "execution_count": 35,
   "metadata": {},
   "outputs": [
    {
     "name": "stdout",
     "output_type": "stream",
     "text": [
      "Working on Angeles Crest\n",
      "Working on Arches\n",
      "Working on Behind the Rocks\n",
      "Working on Big Alta\n",
      "Working on Bigfoot 200\n",
      "Working on Black Canyon 100K\n",
      "Working on Black Canyon 60K\n",
      "Working on Broken Arrow Skyrace\n",
      "Working on Cocodona\n",
      "Working on Crown King Scramble\n",
      "Working on Dead Horse\n",
      "Working on Desert Solstice\n",
      "Working on Hardrock\n",
      "Working on HURT\n",
      "Working on Jackpot\n",
      "Working on Javelina Jundred\n",
      "Working on Moab 240\n",
      "Working on Moab Red Hot\n",
      "Working on Quad Rock\n",
      "Working on Red Mountain\n",
      "Working on Run Rabbit Run\n",
      "Working on Salmon Falls\n",
      "Working on Silver State 50K\n",
      "Working on Six Days in the Dome\n",
      "Working on Sky Pilot's Backyard\n",
      "Working on Suffer on Centennial (Canada)\n",
      "Working on Tahoe 200\n",
      "Working on Tillamook Burn\n",
      "Working on Tunnel Hill\n",
      "Working on Western States\n"
     ]
    }
   ],
   "source": [
    "for race_name, race_url in ultrasignup_urls.items():\n",
    "    print(\"Working on \" + race_name)\n",
    "    res = ultrasignup_scraper(race_url)\n",
    "    res.to_csv(\"../data/race_results/\" + race_name + \".csv\", index=False)"
   ]
  },
  {
   "cell_type": "code",
   "execution_count": 37,
   "metadata": {},
   "outputs": [
    {
     "name": "stdout",
     "output_type": "stream",
     "text": [
      "['Javelina Jundred.csv', 'Hardrock.csv', 'Black Canyon 100K.csv']\n"
     ]
    }
   ],
   "source": [
    "import os\n",
    "import pandas as pd\n",
    "\n",
    "# determine which ones didn't work (manual checking)\n",
    "# Directory containing the race results\n",
    "directory = \"../data/race_results\"\n",
    "\n",
    "# List to store file names with zero rows\n",
    "zero_row_files = []\n",
    "\n",
    "# Iterate over all files in the directory\n",
    "for filename in os.listdir(directory):\n",
    "    if filename.endswith(\".csv\"):\n",
    "        filepath = os.path.join(directory, filename)\n",
    "        df = pd.read_csv(filepath)\n",
    "        if df.shape[0] == 0:\n",
    "            zero_row_files.append(filename)\n",
    "\n",
    "# Print the list of files with zero rows\n",
    "print(zero_row_files)"
   ]
  },
  {
   "cell_type": "code",
   "execution_count": 38,
   "metadata": {},
   "outputs": [],
   "source": [
    "race_name = \"Javelina Jundred\"\n",
    "race_url = \"https://ultrasignup.com/results_event.aspx?did=112165\"\n",
    "res = ultrasignup_scraper(race_url)\n",
    "res.to_csv(\"../data/race_results/\" + race_name + \".csv\", index=False)"
   ]
  },
  {
   "cell_type": "code",
   "execution_count": 39,
   "metadata": {},
   "outputs": [],
   "source": [
    "race_name = \"Hardrock\"\n",
    "race_url = \"https://ultrasignup.com/results_event.aspx?did=108442\"\n",
    "res = ultrasignup_scraper(race_url)\n",
    "res.to_csv(\"../data/race_results/\" + race_name + \".csv\", index=False)"
   ]
  },
  {
   "cell_type": "code",
   "execution_count": 40,
   "metadata": {},
   "outputs": [],
   "source": [
    "race_name = \"Black Canyon 100K\"\n",
    "race_url = \"http://ultrasignup.com/results_event.aspx?did=104108\"\n",
    "res = ultrasignup_scraper(race_url)\n",
    "res.to_csv(\"../data/race_results/\" + race_name + \".csv\", index=False)"
   ]
  },
  {
   "cell_type": "code",
   "execution_count": 41,
   "metadata": {},
   "outputs": [],
   "source": [
    "race_name = \"Saguaro Backyard\"\n",
    "race_url = \"https://ultrasignup.com/results_event.aspx?did=101951\"\n",
    "res = ultrasignup_scraper(race_url)\n",
    "res.to_csv(\"../data/race_results/\" + race_name + \".csv\", index=False)"
   ]
  },
  {
   "cell_type": "code",
   "execution_count": 43,
   "metadata": {},
   "outputs": [],
   "source": [
    "race_name = \"Captain Mountain\"\n",
    "race_url = \"https://ultrasignup.com/results_event.aspx?did=104827\"\n",
    "res = ultrasignup_scraper(race_url)\n",
    "res.to_csv(\"../data/race_results/\" + race_name + \".csv\", index=False)"
   ]
  },
  {
   "cell_type": "code",
   "execution_count": 44,
   "metadata": {},
   "outputs": [],
   "source": [
    "race_name = \"Big's Backyard\"\n",
    "race_url = \"https://ultrasignup.com/results_event.aspx?did=112725\"\n",
    "res = ultrasignup_scraper(race_url)\n",
    "res.to_csv(\"../data/race_results/\" + race_name + \".csv\", index=False)"
   ]
  },
  {
   "cell_type": "markdown",
   "metadata": {},
   "source": [
    "## ITRA Races"
   ]
  },
  {
   "cell_type": "code",
   "execution_count": 57,
   "metadata": {},
   "outputs": [],
   "source": [
    "itra_urls = {\n",
    "    \"Canyons by UTMB 100K\": \"https://itra.run/Races/RaceResults/The.Canyons.Endurance.Runs.100.Km/2024/90671\",\n",
    "    \"Canyons by UTMB 50K\": \"https://itra.run/Races/RaceResults/The.Canyons.Endurance.Runs.50.km/2024/90674\", \n",
    "    \"Chianti Castles by UTMB (Italy)\": \"https://www.itra.run/Races/RaceResults/42K/2024/89890\",\n",
    "    \"Courmayeur-Champex-Chamonix (CCC) (Italy)\": \"https://itra.run/Races/RaceResults/HOKA.UTMB%C2%AE.MONT.BLANC.CCC%C2%AE/2024/96212\",\n",
    "    \"Eiger (Switzerland)\": \"https://itra.run/Races/RaceResults/Eiger.Ultra.Trail%C2%AE.by.UTMB.E101/2024/85929\",\n",
    "    \"Grand Raid Reunion (France)\": \"https://itra.run/Races/RaceResults/GRAND.RAID.R%C3%89UNION.DIAGONALE.DES.FOUS/2024/90119\",\n",
    "    \"Nice Cote D'Azur by UTMB (France)\": \"https://www.itra.run/Races/RaceResults/NICE.C%C3%94TE.D%E2%80%99AZUR.BY.UTMB%C2%AE.Nice.100M/2024/97432\",\n",
    "    \"Orsieres-Champex-Chamonis (OCC) (Switzerland)\": \"https://itra.run/Races/RaceResults/HOKA.UTMB%C2%AE.MONT.BLANC.OCC%C2%AE/2024/96215\",\n",
    "    \"UTMB (France)\": \"https://itra.run/Races/RaceResults/HOKA.UTMB%C2%AE.MONT.BLANC..UTMB%C2%AE/2024/96211\",\n",
    "    \"Madeira Island Ultra Trail 85K (Portugal)\": \"https://itra.run/Races/RaceResults/MIUT%C2%AE...Madeira.Island.Ultra.Trail%C2%AE.MIUT.85/2024/87526\",\n",
    "    \"Madeira Island Ultra Trail 115K (Portugal)\": \"https://itra.run/Races/RaceResults/MIUT%C2%AE...Madeira.Island.Ultra.Trail%C2%AE.MIUT.115/2024/87525\",\n",
    "    \"Mt Fuji 100 (Japan)\": \"https://itra.run/Races/RaceResults/MtFUJI100.FUJI/2024/93538\",\n",
    "    \"SainteLyon (France)\": \"https://itra.run/Races/RaceResults/La.ASICS.Saintelyon..La.SainteLyon/2024/98192\",\n",
    "    \"Swiss Canyon Trail 111km (Switzerland)\": \"https://itra.run/Races/RaceResults/SWISS.CANYON.TRAIL.SWISS.CANYON.TRAIL.K111/2024/88367\",\n",
    "    \"SwissAlps 50K\": \"https://itra.run/Races/RaceResults/Swiss.Alps.100.50km/2024/88986\",\n",
    "    \"SwissPeaks 70K (Switzerland)\": \"https://itra.run/Races/RaceResults/SwissPeaks.Trail.SwissPeaks.70/2024/92410\",\n",
    "    \"Trail Andorra 105K (Andorra)\": \"https://itra.run/Races/RaceResults/Andorra.100.by.UTMB%C2%AE.Ultra.105K/2024/90737\",\n",
    "    \"Transgrancanaria (Spain)\": \"https://itra.run/Races/RaceResults/The.North.Face.Transgrancanaria.Classic/2024/89655\",\n",
    "    \"Transvulcania (Spain)\": \"https://itra.run/Races/RaceResults/Ultramarathon/2024/95516\",\n",
    "    \"Speedgoat\": \"https://itra.run/Races/RaceResults/SPEEDGOAT.Mountain.Races.by.UTMB%C2%AE.50K/2024/90749\",\n",
    "    \"KAT100 50K (Austria)\": \"https://itra.run/Races/RaceResults/KAT100.by.UTMB%C2%AE.KAT100.Marathon.Trail/2024/97329\",\n",
    "    \"Julian Alps 50K (Switzerland)\": \"https://itra.run/Races/RaceResults/Julian.Alps.Trail.Run.by.UTMB.Sky.Trail.50k/2024/97358\"\n",
    "}"
   ]
  },
  {
   "cell_type": "code",
   "execution_count": 59,
   "metadata": {},
   "outputs": [
    {
     "name": "stdout",
     "output_type": "stream",
     "text": [
      "Working on Canyons by UTMB 100K\n",
      "Working on Canyons by UTMB 50K\n",
      "Working on Chianti Castles by UTMB (Italy)\n",
      "Working on Courmayeur-Champex-Chamonix (CCC) (Italy)\n",
      "Working on Eiger (Switzerland)\n",
      "Working on Grand Raid Reunion (France)\n",
      "Working on Nice Cote D'Azur by UTMB (France)\n",
      "Working on Orsieres-Champex-Chamonis (OCC) (Switzerland)\n",
      "Working on UTMB (France)\n",
      "Working on Madeira Island Ultra Trail 85K (Portugal)\n",
      "Working on Madeira Island Ultra Trail 115K (Portugal)\n",
      "Working on Mt Fuji 100 (Japan)\n",
      "Working on SainteLyon (France)\n",
      "Working on Swiss Canyon Trail 111km (Switzerland)\n",
      "Working on SwissAlps 50K\n",
      "Working on SwissPeaks 70K (Switzerland)\n",
      "Working on Trail Andorra 105K (Andorra)\n",
      "Working on Transgrancanaria (Spain)\n",
      "Working on Transvulcania (Spain)\n",
      "Working on Speedgoat\n",
      "Working on KAT100 50K (Austria)\n",
      "Working on Julian Alps 50K (Switzerland)\n"
     ]
    }
   ],
   "source": [
    "for race_name, race_url in itra_urls.items():\n",
    "    print(\"Working on \" + race_name)\n",
    "    res = itra_scraper(race_url)\n",
    "    res.to_csv(\"../data/race_results/\" + race_name + \".csv\", index=False)"
   ]
  },
  {
   "cell_type": "markdown",
   "metadata": {},
   "source": [
    "## RunSignup Races"
   ]
  },
  {
   "cell_type": "code",
   "execution_count": 66,
   "metadata": {},
   "outputs": [],
   "source": [
    "race_name = \"JFK\"\n",
    "race_url = \"https://runsignup.com/Race/Results/86044#resultSetId-510578;perpage:5000\"\n",
    "res = runsignup_scraper(race_url)\n",
    "res.to_csv(\"../data/race_results/\" + race_name + \".csv\", index=False)"
   ]
  },
  {
   "cell_type": "code",
   "execution_count": 71,
   "metadata": {},
   "outputs": [],
   "source": [
    "race_name = \"Rut Mountain Runs\"\n",
    "race_url = \"https://runsignup.com/Race/Results/12456#resultSetId-488678;perpage:5000\"\n",
    "res = runsignup_scraper(race_url)\n",
    "res.to_csv(\"../data/race_results/\" + race_name + \".csv\", index=False)"
   ]
  },
  {
   "cell_type": "markdown",
   "metadata": {},
   "source": [
    "## Other Races with Scrapers"
   ]
  },
  {
   "cell_type": "code",
   "execution_count": 76,
   "metadata": {},
   "outputs": [],
   "source": [
    "race_name = \"Chuckanut\"\n",
    "race_url = \"https://register.pacificmultisports.com/Events/Results/1171#0_3EF1B7\"\n",
    "res = pacific_multisports_scraper(race_url)\n",
    "res.to_csv(\"../data/race_results/\" + race_name + \".csv\", index=False)"
   ]
  },
  {
   "cell_type": "code",
   "execution_count": 84,
   "metadata": {},
   "outputs": [],
   "source": [
    "race_name = \"Leadville\"\n",
    "race_url = \"https://ultrarunning.com/calendar/event/leadville-trail/race/41140/results\"\n",
    "res = ultrarunning_scraper(race_url)\n",
    "res.to_csv(\"../data/race_results/\" + race_name + \".csv\", index=False)"
   ]
  },
  {
   "cell_type": "code",
   "execution_count": 85,
   "metadata": {},
   "outputs": [],
   "source": [
    "race_name = \"Leadville Silver Rush\"\n",
    "race_url = \"https://ultrarunning.com/calendar/event/silver-rush-50/race/41859/results\"\n",
    "res = ultrarunning_scraper(race_url)\n",
    "res.to_csv(\"../data/race_results/\" + race_name + \".csv\", index=False)"
   ]
  },
  {
   "cell_type": "markdown",
   "metadata": {},
   "source": [
    "## Races Requiring Raw Code"
   ]
  },
  {
   "cell_type": "code",
   "execution_count": 86,
   "metadata": {},
   "outputs": [],
   "source": [
    "from selenium import webdriver\n",
    "from selenium.webdriver.common.by import By\n",
    "from selenium.webdriver.support.wait import WebDriverWait\n",
    "from selenium.webdriver.support import expected_conditions as EC\n",
    "import pandas as pd"
   ]
  },
  {
   "cell_type": "code",
   "execution_count": 93,
   "metadata": {},
   "outputs": [],
   "source": [
    "# Comrades\n",
    "base_url = \"https://results.finishtime.co.za/results.aspx?CId=35&RId=30204&EId=1&dt=0&PageNo=1&adv=1\"\n",
    "options = webdriver.ChromeOptions()\n",
    "    \n",
    "# Initiate the driver\n",
    "driver = webdriver.Chrome(options=options)\n",
    "driver.get(base_url)\n",
    "wait = WebDriverWait(driver, 20)  # Timeout after 20 seconds\n",
    "table_element = wait.until(EC.presence_of_element_located((By.ID, \"ctl00_Content_Main_grdTopPager\")))\n",
    "\n",
    "## Scroll through all 482 Pages of results (actually let's just get like the first 20 that will be fine...)\n",
    "for i in range(1, 21):\n",
    "    url = \"https://results.finishtime.co.za/results.aspx?CId=35&RId=30204&EId=1&dt=0&PageNo=\" + str(i) + \"&adv=1\"\n",
    "    driver.get(url)\n",
    "    table_element = wait.until(EC.presence_of_element_located((By.ID, \"ctl00_Content_Main_divGrid\")))\n",
    "    table = driver.find_element(By.ID, \"ctl00_Content_Main_divGrid\")\n",
    "    tbody = table.find_element(By.TAG_NAME, \"tbody\")\n",
    "    rows = tbody.find_elements(By.TAG_NAME, \"tr\")\n",
    "\n",
    "    data = []\n",
    "    for row in rows:\n",
    "        cols = row.find_elements(By.TAG_NAME, \"td\")\n",
    "        row_data = [col.text.strip() for col in cols]\n",
    "        data.append(row_data)\n",
    "\n",
    "    # save the data to a pandas dataframe and close the driver\n",
    "    df = pd.DataFrame(data) \n",
    "    df = df.iloc[1:,[1,3,6,8,11]]\n",
    "    df.columns = [\"Place\", \"Bib\", \"Name\", \"Time\", \"Gender\"]\n",
    "    if i == 1:\n",
    "        res = df\n",
    "    else:\n",
    "        res = pd.concat([res, df], ignore_index=True)\n",
    "\n",
    "driver.quit()\n",
    "\n",
    "res.to_csv(\"../data/race_results/\" + \"Comrades (South Africa)\" + \".csv\", index=False)"
   ]
  },
  {
   "cell_type": "code",
   "execution_count": 96,
   "metadata": {},
   "outputs": [],
   "source": [
    "# Snowdrop Ultra\n",
    "base_url = \"https://my.raceresult.com/321270/#1_7AAEAD\"\n",
    "options = webdriver.ChromeOptions()\n",
    "    \n",
    "# Initiate the driver\n",
    "driver = webdriver.Chrome(options=options)\n",
    "driver.get(base_url)\n",
    "wait = WebDriverWait(driver, 20)  # Timeout after 20 seconds\n",
    "table_element = wait.until(EC.presence_of_element_located((By.CLASS_NAME, \"MainTable\")))\n",
    "\n",
    "## Scroll through all 482 Pages of results (actually let's just get like the first 20 that will be fine...)\n",
    "table = driver.find_element(By.CLASS_NAME, \"MainTable\")\n",
    "tbody = table.find_element(By.ID, \"tb_1Data\")\n",
    "rows = tbody.find_elements(By.TAG_NAME, \"tr\")\n",
    "\n",
    "data = []\n",
    "for row in rows:\n",
    "    cols = row.find_elements(By.TAG_NAME, \"td\")\n",
    "    row_data = [col.text.strip() for col in cols]\n",
    "    data.append(row_data)\n",
    "\n",
    "# save the data to a pandas dataframe and close the driver\n",
    "df = pd.DataFrame(data) \n",
    "df = df.iloc[:,1:11]\n",
    "df.columns = [\"Place\", \"Bib\", \"Name\", \"Age\", \"Gender\", \"City\", \"State\", \"Laps\", \"Miles\", \"KM\"]\n",
    "\n",
    "driver.quit()\n",
    "\n",
    "df.to_csv(\"../data/race_results/\" + \"Snowdrop Ultra\" + \".csv\", index=False)"
   ]
  },
  {
   "cell_type": "markdown",
   "metadata": {},
   "source": [
    "## Tracking"
   ]
  },
  {
   "cell_type": "code",
   "execution_count": 42,
   "metadata": {},
   "outputs": [],
   "source": [
    "ultrasignup_urls = {\n",
    "# [24] \"IAU World Championships (India)\": \"https://iau-ultramarathon.org/provisional-results-for-2024-iau-and-wma-100-km-world-championships.html\" # Need to do this manually                                             \n",
    "}"
   ]
  },
  {
   "cell_type": "markdown",
   "metadata": {},
   "source": [
    "Did them all!"
   ]
  }
 ],
 "metadata": {
  "kernelspec": {
   "display_name": ".venv",
   "language": "python",
   "name": "python3"
  },
  "language_info": {
   "codemirror_mode": {
    "name": "ipython",
    "version": 3
   },
   "file_extension": ".py",
   "mimetype": "text/x-python",
   "name": "python",
   "nbconvert_exporter": "python",
   "pygments_lexer": "ipython3",
   "version": "3.12.7"
  }
 },
 "nbformat": 4,
 "nbformat_minor": 2
}
